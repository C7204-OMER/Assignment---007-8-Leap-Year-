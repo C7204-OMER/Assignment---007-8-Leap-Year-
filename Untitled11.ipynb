{
  "nbformat": 4,
  "nbformat_minor": 0,
  "metadata": {
    "colab": {
      "name": "Untitled11.ipynb",
      "provenance": [],
      "collapsed_sections": [],
      "authorship_tag": "ABX9TyP/IVJQRMY3BQH23FNsxOXk",
      "include_colab_link": true
    },
    "kernelspec": {
      "name": "python3",
      "display_name": "Python 3"
    }
  },
  "cells": [
    {
      "cell_type": "markdown",
      "metadata": {
        "id": "view-in-github",
        "colab_type": "text"
      },
      "source": [
        "<a href=\"https://colab.research.google.com/github/C7204-OMER/Assignment---007-8-Leap-Year-/blob/main/Untitled11.ipynb\" target=\"_parent\"><img src=\"https://colab.research.google.com/assets/colab-badge.svg\" alt=\"Open In Colab\"/></a>"
      ]
    },
    {
      "cell_type": "code",
      "metadata": {
        "id": "lqoR6sKALJXt"
      },
      "source": [
        "number = int(input(\"Please enter a number : \"))\r\n",
        "\r\n",
        "if number % 4 == 0 and number % 100 == 0 and number % 400 == 0:   ## LEAP YEAR ##\r\n",
        "  print(number, \"is a leap year\")\r\n",
        "else:\r\n",
        "  print(number, \"is not a leap year\")\r\n"
      ],
      "execution_count": null,
      "outputs": []
    }
  ]
}